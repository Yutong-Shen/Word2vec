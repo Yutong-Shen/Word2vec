{
 "cells": [
  {
   "cell_type": "markdown",
   "metadata": {},
   "source": [
    "# Evaluation with Spearman Correlation"
   ]
  },
  {
   "cell_type": "code",
   "execution_count": 1,
   "metadata": {},
   "outputs": [],
   "source": [
    "from scipy.stats import spearmanr\n",
    "from scipy import spatial\n",
    "import numpy as np\n",
    "import logging\n",
    "from six import iteritems\n",
    "import pandas as pd\n",
    "from itertools import chain\n",
    "import argparse\n",
    "import os"
   ]
  },
  {
   "cell_type": "code",
   "execution_count": 2,
   "metadata": {},
   "outputs": [],
   "source": [
    "embed_path = 'E:/Word2vec/embeddings_wiki.npy'\n",
    "vocab_path = 'E:/Word2vec/vocab_300.txt'"
   ]
  },
  {
   "cell_type": "code",
   "execution_count": 3,
   "metadata": {},
   "outputs": [],
   "source": [
    "with open(vocab_path, encoding=\"utf8\") as f:\n",
    "    vocab = f.readlines()\n",
    "vocab = [w.strip() for w in vocab]"
   ]
  },
  {
   "cell_type": "code",
   "execution_count": 4,
   "metadata": {},
   "outputs": [],
   "source": [
    "def lookup_table(word):\n",
    "    return embed[vocab.index(word)]"
   ]
  },
  {
   "cell_type": "code",
   "execution_count": 5,
   "metadata": {},
   "outputs": [],
   "source": [
    "embed = np.load(embed_path)"
   ]
  },
  {
   "cell_type": "code",
   "execution_count": 6,
   "metadata": {},
   "outputs": [],
   "source": [
    "def _read_as_pd(file):\n",
    "    return pd.read_csv(file)"
   ]
  },
  {
   "cell_type": "code",
   "execution_count": 7,
   "metadata": {},
   "outputs": [],
   "source": [
    "data = _read_as_pd('E:/Word2vec/combined.csv')"
   ]
  },
  {
   "cell_type": "code",
   "execution_count": 8,
   "metadata": {},
   "outputs": [],
   "source": [
    "X = data.values[:, 0:2]"
   ]
  },
  {
   "cell_type": "code",
   "execution_count": 9,
   "metadata": {},
   "outputs": [],
   "source": [
    "y = data.values[:, 2].astype(np.float)"
   ]
  },
  {
   "cell_type": "code",
   "execution_count": 10,
   "metadata": {},
   "outputs": [
    {
     "name": "stdout",
     "output_type": "stream",
     "text": [
      "----------SIMILARITY----------\n",
      "Spearman correlation error on WS353 dataset: 0.7405678952179118\n",
      "Cosine similarity error on WS353 dataset: 0.7430807452890412\n"
     ]
    }
   ],
   "source": [
    "spearman_errors = []\n",
    "cosine_errors = []\n",
    "name = 'WS353'\n",
    "print(\"----------SIMILARITY----------\")\n",
    "spearman_err = 0\n",
    "cosine_err = 0\n",
    "analogies = 0\n",
    "for i in range(len(X)):\n",
    "    # get the word from WS353 dataset\n",
    "    word1, word2 = X[i][0], X[i][1]\n",
    "    if word1 not in vocab or word2 not in vocab:\n",
    "        continue\n",
    "    # look up word pairs in embedding\n",
    "    spearman_corr, _ = spearmanr(lookup_table(word1), lookup_table(word2))\n",
    "    # accumulate the spearman correlation\n",
    "    spearman_corr = abs(spearman_corr)\n",
    "    spearman_err += abs(spearman_corr - y[i] / 10)\n",
    "    # compute cosine similarity\n",
    "    cosine_sim = 1 - spatial.distance.cosine(lookup_table(word1), lookup_table(word2))\n",
    "    cosine_err += abs(cosine_sim - y[i] / 10)\n",
    "    # print(word1, word2, data.y[i], cosine_sim)\n",
    "\n",
    "    analogies += 1\n",
    "spearman_err = 1 - spearman_err / analogies\n",
    "cosine_err = 1 - cosine_err / analogies\n",
    "spearman_errors.append(spearman_err)\n",
    "cosine_errors.append(cosine_err)\n",
    "print(\"Spearman correlation error on {} dataset: {}\".format(name, spearman_err))\n",
    "print(\"Cosine similarity error on {} dataset: {}\".format(name, cosine_err))"
   ]
  }
 ],
 "metadata": {
  "kernelspec": {
   "display_name": "Python 3",
   "language": "python",
   "name": "python3"
  },
  "language_info": {
   "codemirror_mode": {
    "name": "ipython",
    "version": 3
   },
   "file_extension": ".py",
   "mimetype": "text/x-python",
   "name": "python",
   "nbconvert_exporter": "python",
   "pygments_lexer": "ipython3",
   "version": "3.7.0"
  }
 },
 "nbformat": 4,
 "nbformat_minor": 4
}
